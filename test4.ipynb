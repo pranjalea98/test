{
 "cells": [
  {
   "cell_type": "code",
   "execution_count": 2,
   "metadata": {
    "ExecuteTime": {
     "end_time": "2021-05-11T13:54:49.794197Z",
     "start_time": "2021-05-11T13:54:49.789318Z"
    }
   },
   "outputs": [],
   "source": [
    "import numpy as np # linear algebra\n",
    "import pandas as pd # data processing\n",
    "from sklearn.preprocessing import KBinsDiscretizer\n",
    "import time, math, random\n",
    "from typing import Tuple\n",
    "import gym"
   ]
  },
  {
   "cell_type": "code",
   "execution_count": 3,
   "metadata": {
    "ExecuteTime": {
     "end_time": "2021-05-11T13:54:52.482639Z",
     "start_time": "2021-05-11T13:54:52.317695Z"
    }
   },
   "outputs": [],
   "source": [
    "env = gym.make('CartPole-v1')"
   ]
  },
  {
   "cell_type": "code",
   "execution_count": 4,
   "metadata": {
    "ExecuteTime": {
     "end_time": "2021-05-11T13:54:53.935907Z",
     "start_time": "2021-05-11T13:54:53.930051Z"
    }
   },
   "outputs": [],
   "source": [
    "?env.env"
   ]
  },
  {
   "cell_type": "code",
   "execution_count": 5,
   "metadata": {
    "ExecuteTime": {
     "end_time": "2021-05-11T13:54:58.392336Z",
     "start_time": "2021-05-11T13:54:58.354264Z"
    }
   },
   "outputs": [],
   "source": [
    "n_bins = ( 6 , 12 )\n",
    "l=[ env.observation_space.low[2], -math.radians(50) ]\n",
    "u=[ env.observation_space.high[2], math.radians(50) ]\n",
    "def conv( _ , __ , angle, pole_velocity ) -> Tuple[int,...]:\n",
    "    res= KBinsDiscretizer(n_bins=n_bins, encode='ordinal', strategy='uniform')\n",
    "    res.fit([l,u])\n",
    "    return tuple(map(int,res.transform([[angle, pole_velocity]])[0]))"
   ]
  },
  {
   "cell_type": "code",
   "execution_count": 6,
   "metadata": {
    "ExecuteTime": {
     "end_time": "2021-05-11T13:55:01.027156Z",
     "start_time": "2021-05-11T13:55:01.012475Z"
    }
   },
   "outputs": [
    {
     "data": {
      "text/plain": [
       "(6, 12, 2)"
      ]
     },
     "execution_count": 6,
     "metadata": {},
     "output_type": "execute_result"
    }
   ],
   "source": [
    "m= np.zeros(n_bins + (env.action_space.n,))\n",
    "m.shape"
   ]
  },
  {
   "cell_type": "code",
   "execution_count": 8,
   "metadata": {
    "ExecuteTime": {
     "end_time": "2021-05-11T13:55:36.015816Z",
     "start_time": "2021-05-11T13:55:36.010971Z"
    }
   },
   "outputs": [],
   "source": [
    "def policy( state : tuple ):\n",
    "    return np.argmax(m[state])"
   ]
  },
  {
   "cell_type": "code",
   "execution_count": 9,
   "metadata": {
    "ExecuteTime": {
     "end_time": "2021-05-11T13:55:37.798014Z",
     "start_time": "2021-05-11T13:55:37.793114Z"
    }
   },
   "outputs": [],
   "source": [
    "def new( reward : float ,  new_state : tuple , discount_factor=1 ) -> float:\n",
    "    future_optimal_value = np.max(m[new_state])\n",
    "    new_value = reward + discount_factor * future_optimal_value\n",
    "    return new_value"
   ]
  },
  {
   "cell_type": "code",
   "execution_count": 10,
   "metadata": {
    "ExecuteTime": {
     "end_time": "2021-05-11T13:55:40.683053Z",
     "start_time": "2021-05-11T13:55:40.678172Z"
    }
   },
   "outputs": [],
   "source": [
    "def learning_rate(n : int , min_rate=0.01 ) -> float  :\n",
    "    return max(min_rate, min(1.0, 1.0 - math.log10((n + 1) / 25)))"
   ]
  },
  {
   "cell_type": "code",
   "execution_count": 11,
   "metadata": {
    "ExecuteTime": {
     "end_time": "2021-05-11T13:55:43.404144Z",
     "start_time": "2021-05-11T13:55:43.399265Z"
    }
   },
   "outputs": [],
   "source": [
    "def exploration_rate(n : int, min_rate= 0.1 ) -> float :\n",
    "    return max(min_rate, min(1, 1.0 - math.log10((n  + 1) / 25)))"
   ]
  },
  {
   "cell_type": "code",
   "execution_count": null,
   "metadata": {
    "ExecuteTime": {
     "start_time": "2021-05-11T13:55:48.014Z"
    }
   },
   "outputs": [],
   "source": [
    "n_episodes = 1000 \n",
    "for e in range(n_episodes):\n",
    "    current_state, done = conv(*env.reset()), False\n",
    "    while done==False:\n",
    "        action = policy(current_state)\n",
    "        if np.random.random() < exploration_rate(e) : \n",
    "            action = env.action_space.sample()\n",
    "        obs, reward, done, _ = env.step(action)\n",
    "        new_state = conv(*obs)\n",
    "        lr = learning_rate(e)\n",
    "        value = new(reward , new_state )\n",
    "        old= m[current_state][action]\n",
    "        m[current_state][action] = (1-lr)*old + lr*value\n",
    "        current_state = new_state\n",
    "        env.render()"
   ]
  },
  {
   "cell_type": "code",
   "execution_count": null,
   "metadata": {},
   "outputs": [],
   "source": []
  },
  {
   "cell_type": "code",
   "execution_count": null,
   "metadata": {},
   "outputs": [],
   "source": []
  },
  {
   "cell_type": "code",
   "execution_count": null,
   "metadata": {},
   "outputs": [],
   "source": []
  }
 ],
 "metadata": {
  "kernelspec": {
   "display_name": "Python 3",
   "language": "python",
   "name": "python3"
  },
  "language_info": {
   "codemirror_mode": {
    "name": "ipython",
    "version": 3
   },
   "file_extension": ".py",
   "mimetype": "text/x-python",
   "name": "python",
   "nbconvert_exporter": "python",
   "pygments_lexer": "ipython3",
   "version": "3.8.3"
  },
  "toc": {
   "base_numbering": 1,
   "nav_menu": {},
   "number_sections": true,
   "sideBar": true,
   "skip_h1_title": false,
   "title_cell": "Table of Contents",
   "title_sidebar": "Contents",
   "toc_cell": false,
   "toc_position": {},
   "toc_section_display": true,
   "toc_window_display": false
  }
 },
 "nbformat": 4,
 "nbformat_minor": 4
}
